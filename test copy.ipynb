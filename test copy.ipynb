{
 "cells": [
  {
   "cell_type": "code",
   "execution_count": 4,
   "id": "72b96722",
   "metadata": {},
   "outputs": [],
   "source": [
    "from matplotlib import pyplot as plt\n",
    "import os\n",
    "from PIL import Image\n",
    "import torch\n",
    "\n",
    "def test(pipeline, save_path):\n",
    "    # 指定使用 GPU 1\n",
    "    device = torch.device(\"cuda:0\" if torch.cuda.is_available() else \"cpu\")\n",
    "    pipeline = pipeline.to(device)\n",
    "\n",
    "    # 确保所有计算都在指定的设备上进行\n",
    "    with torch.cuda.device(device):\n",
    "        images = pipeline(batch_size=16,  # 假设我们想要保存16张图像\n",
    "                          num_inference_steps=1000,\n",
    "                          output_type='numpy').images\n",
    "\n",
    "    # 将模型移回 CPU 并清空 GPU 缓存\n",
    "    pipeline.to('cpu')\n",
    "    torch.cuda.empty_cache()\n",
    "\n",
    "    # 将图像数据转换为 uint8 类型，以便于保存\n",
    "    images = (images * 255).round().astype('uint8')\n",
    "\n",
    "    # 创建保存图像的目录，如果不存在的话\n",
    "    os.makedirs(save_path, exist_ok=True)\n",
    "\n",
    "    # 保存每个生成的图像\n",
    "    for i, img in enumerate(images):\n",
    "        # 将 NumPy 数组转换为 PIL Image 对象\n",
    "        pil_image = Image.fromarray(img.astype('uint8'), 'RGB')\n",
    "        # 定义每个图像的保存路径\n",
    "        file_path = os.path.join(save_path, f\"generated_image_{i}.png\")\n",
    "        # 保存图像\n",
    "        pil_image.save(file_path)\n",
    "\n",
    "    # 如果你还想显示图像，可以取消下面这行的注释\n",
    "    # plt.figure(figsize=(12, 9))\n",
    "    # for i in range(16):  # 假设我们想要显示 16 张图像\n",
    "    #     plt.subplot(4, 4, i + 1)\n",
    "    #     plt.imshow(images[i], cmap='gray' if images[i].ndim == 2 else None)  # 使用灰度色图如果是灰度图\n",
    "    #     plt.axis('off')\n",
    "    # plt.tight_layout()\n",
    "    # plt.show()\n",
    "\n",
    "# 假设 pipeline 是一个已经定义好的模型或者处理流程\n",
    "# test(your_pipeline)\n",
    "\n",
    "# 假设 pipeline 是一个已经定义好的模型或者处理流程\n",
    "# test(your_pipeline)"
   ]
  },
  {
   "cell_type": "code",
   "execution_count": 5,
   "id": "955bc3b6",
   "metadata": {},
   "outputs": [],
   "source": [
    "from diffusers import DDPMPipeline, UNet2DModel, DDPMScheduler\n",
    "\n",
    "#定义模型,随机初始化参数\n",
    "model = UNet2DModel(\n",
    "    sample_size=64,\n",
    "    in_channels=3,\n",
    "    out_channels=3,\n",
    "    layers_per_block=3,#2\n",
    "    block_out_channels=(128, 128, 256, 256, 512, 512),\n",
    "    down_block_types=(\n",
    "        'DownBlock2D',\n",
    "        'DownBlock2D',\n",
    "        'DownBlock2D',\n",
    "        'DownBlock2D',\n",
    "        'AttnDownBlock2D',\n",
    "        'DownBlock2D',\n",
    "    ),\n",
    "    up_block_types=(\n",
    "        'UpBlock2D',\n",
    "        'AttnUpBlock2D',\n",
    "        'UpBlock2D',\n",
    "        'UpBlock2D',\n",
    "        'UpBlock2D',\n",
    "        'UpBlock2D',\n",
    "    ),\n",
    ")\n",
    "\n",
    "#初始化工具类\n",
    "scheduler = DDPMScheduler(num_train_timesteps=1000,\n",
    "                          beta_schedule='linear',\n",
    "                          prediction_type='epsilon')\n",
    "\n"
   ]
  },
  {
   "cell_type": "code",
   "execution_count": 6,
   "id": "e8dbe873",
   "metadata": {},
   "outputs": [
    {
     "data": {
      "application/vnd.jupyter.widget-view+json": {
       "model_id": "5196cc7a880c45a99a6ea151c53fe43c",
       "version_major": 2,
       "version_minor": 0
      },
      "text/plain": [
       "Loading pipeline components...:   0%|          | 0/2 [00:00<?, ?it/s]"
      ]
     },
     "metadata": {},
     "output_type": "display_data"
    },
    {
     "data": {
      "application/vnd.jupyter.widget-view+json": {
       "model_id": "0826fa7e11644c0a8926877ff360c4a9",
       "version_major": 2,
       "version_minor": 0
      },
      "text/plain": [
       "  0%|          | 0/1000 [00:00<?, ?it/s]"
      ]
     },
     "metadata": {},
     "output_type": "display_data"
    }
   ],
   "source": [
    "test(DDPMPipeline.from_pretrained('./ddpm-church-finetune-wikiart-256'),'wikiarts')"
   ]
  },
  {
   "cell_type": "code",
   "execution_count": 7,
   "id": "d65b527d",
   "metadata": {},
   "outputs": [],
   "source": [
    "#test(DDPMPipeline.from_pretrained('./sd-class-metfaces-64-clean'))"
   ]
  },
  {
   "cell_type": "code",
   "execution_count": 8,
   "id": "98eb0495",
   "metadata": {},
   "outputs": [],
   "source": [
    "\n",
    "#test(DDPMPipeline.from_pretrained('ddpm-ema-heightmap-512-10m'))"
   ]
  },
  {
   "cell_type": "code",
   "execution_count": 9,
   "id": "3a5fdd61",
   "metadata": {},
   "outputs": [],
   "source": [
    "#test(DDPMPipeline.from_pretrained('ddpm-church-finetune-wikiart-256'))"
   ]
  },
  {
   "cell_type": "code",
   "execution_count": 10,
   "id": "6298608d",
   "metadata": {},
   "outputs": [
    {
     "data": {
      "application/vnd.jupyter.widget-view+json": {
       "model_id": "1c18fde98aaf4ee7a2697d49d64f7f4d",
       "version_major": 2,
       "version_minor": 0
      },
      "text/plain": [
       "Loading pipeline components...:   0%|          | 0/2 [00:00<?, ?it/s]"
      ]
     },
     "metadata": {},
     "output_type": "display_data"
    },
    {
     "data": {
      "application/vnd.jupyter.widget-view+json": {
       "model_id": "a464681b0c16441c9c02fd65f5f4f243",
       "version_major": 2,
       "version_minor": 0
      },
      "text/plain": [
       "  0%|          | 0/1000 [00:00<?, ?it/s]"
      ]
     },
     "metadata": {},
     "output_type": "display_data"
    }
   ],
   "source": [
    "test(DDPMPipeline.from_pretrained('sd-class-metfaces-64-clean'),'face')"
   ]
  },
  {
   "cell_type": "code",
   "execution_count": null,
   "id": "27d362d5",
   "metadata": {},
   "outputs": [],
   "source": []
  },
  {
   "cell_type": "code",
   "execution_count": 11,
   "id": "59abe1ba",
   "metadata": {},
   "outputs": [],
   "source": [
    "#test(DDPMPipeline.from_pretrained('ddpm-ema-flowers-64-test'),'flower')"
   ]
  },
  {
   "cell_type": "code",
   "execution_count": 12,
   "id": "da8625da",
   "metadata": {},
   "outputs": [
    {
     "data": {
      "application/vnd.jupyter.widget-view+json": {
       "model_id": "ad54b44c06f24a80817c40c9c8857959",
       "version_major": 2,
       "version_minor": 0
      },
      "text/plain": [
       "Loading pipeline components...:   0%|          | 0/2 [00:00<?, ?it/s]"
      ]
     },
     "metadata": {},
     "output_type": "display_data"
    },
    {
     "data": {
      "application/vnd.jupyter.widget-view+json": {
       "model_id": "fe8b0564e257420b8fc0f900ccbb545f",
       "version_major": 2,
       "version_minor": 0
      },
      "text/plain": [
       "  0%|          | 0/1000 [00:00<?, ?it/s]"
      ]
     },
     "metadata": {},
     "output_type": "display_data"
    }
   ],
   "source": [
    "test(DDPMPipeline.from_pretrained('ddpm-ema-cat-256'),'cat')"
   ]
  },
  {
   "cell_type": "code",
   "execution_count": 13,
   "id": "792cbd25",
   "metadata": {},
   "outputs": [
    {
     "data": {
      "application/vnd.jupyter.widget-view+json": {
       "model_id": "0655de72d1e34dacaf17eedfe571d5bd",
       "version_major": 2,
       "version_minor": 0
      },
      "text/plain": [
       "Loading pipeline components...:   0%|          | 0/2 [00:00<?, ?it/s]"
      ]
     },
     "metadata": {},
     "output_type": "display_data"
    },
    {
     "data": {
      "application/vnd.jupyter.widget-view+json": {
       "model_id": "37ea976579d241af845252bab8bacc2d",
       "version_major": 2,
       "version_minor": 0
      },
      "text/plain": [
       "  0%|          | 0/1000 [00:00<?, ?it/s]"
      ]
     },
     "metadata": {},
     "output_type": "display_data"
    }
   ],
   "source": [
    "test(DDPMPipeline.from_pretrained('ddpm-bored-apes-128'),'bore')"
   ]
  },
  {
   "cell_type": "code",
   "execution_count": null,
   "id": "c81ef5b7",
   "metadata": {},
   "outputs": [],
   "source": [
    "test(DDPMPipeline.from_pretrained('ddpm-flowers-128-100-hu-80-120'),'flowerss')"
   ]
  }
 ],
 "metadata": {
  "kernelspec": {
   "display_name": "Python 3 (ipykernel)",
   "language": "python",
   "name": "python3"
  },
  "language_info": {
   "codemirror_mode": {
    "name": "ipython",
    "version": 3
   },
   "file_extension": ".py",
   "mimetype": "text/x-python",
   "name": "python",
   "nbconvert_exporter": "python",
   "pygments_lexer": "ipython3",
   "version": "3.9.19"
  }
 },
 "nbformat": 4,
 "nbformat_minor": 5
}
